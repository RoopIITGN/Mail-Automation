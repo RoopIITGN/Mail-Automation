{
 "cells": [
  {
   "cell_type": "code",
   "execution_count": 16,
   "metadata": {},
   "outputs": [],
   "source": [
    "import smtplib\n",
    "from email.mime.text import MIMEText\n",
    "from email.mime.multipart import MIMEMultipart\n",
    "from email.mime.base import MIMEBase\n",
    "from email import encoders\n",
    "import xlrd"
   ]
  },
  {
   "cell_type": "code",
   "execution_count": 26,
   "metadata": {},
   "outputs": [
    {
     "name": "stdout",
     "output_type": "stream",
     "text": [
      "Dear a b,\n",
      "*****Write your e_mail message body here*****\n",
      "Dear c d,\n",
      "*****Write your e_mail message body here*****\n"
     ]
    }
   ],
   "source": [
    "email_user = '******' #Enter the sender email_id--------\n",
    "email_password = '******' #Enter sender email account password-------\n",
    "\n",
    "filename=r\"Demo1.xlsx\" #Entet the path of the excel file from where you want to read the recipient information-----\n",
    "wb = xlrd.open_workbook(filename) \n",
    "sheet = wb.sheet_by_index(0) \n",
    "sheet.cell_value(0, 0)\n",
    "length=sheet.nrows\n",
    "\n",
    "subject = \"********\" #Write your subject here\n",
    "\n",
    "for i in range(1,length):\n",
    "    first_name=sheet.cell_value(i,0)\n",
    "    last_name=sheet.cell_value(i,1)\n",
    "    email_send=sheet.cell_value(i,2)\n",
    "    msg = MIMEMultipart()\n",
    "    msg['From'] = email_user\n",
    "    msg['To'] = email_send\n",
    "    msg['Subject'] = subject\n",
    "    \n",
    "    body = \"Dear \"+first_name+\" \"+last_name+\",\\n*****Write your e_mail message body here*****\" #Write your e_mail message body here-----\n",
    "    #print(body)\n",
    "    msg.attach(MIMEText(body,'plain'))\n",
    "    \n",
    "    attach_f=r\"******\" #Enter the attachment path you want to send--------\n",
    "    sender_filename=\"****\" #Enter the file name as you want to show your recipients\n",
    "    attachment=open(attach_f,'rb')\n",
    "    part = MIMEBase('application','octet-stream')\n",
    "    part.set_payload((attachment).read())\n",
    "    encoders.encode_base64(part)\n",
    "    part.add_header('Content-Disposition',\"attachment; filename= \"+sender_filename)\n",
    "    msg.attach(part)\n",
    "    text = msg.as_string()\n",
    "    server = smtplib.SMTP('smtp.gmail.com',587)\n",
    "    server.starttls()\n",
    "    server.login(email_user,email_password)\n",
    "    server.sendmail(email_user,email_send,text)\n",
    "    server.quit()\n",
    "    \n",
    "print(\"Sent successfully!...\")"
   ]
  },
  {
   "cell_type": "markdown",
   "metadata": {},
   "source": [
    "Reference:\n",
    "[1] https://github.com/samlopezf/Python-Email . [Accessed: Feb. 15, 2019]."
   ]
  },
  {
   "cell_type": "code",
   "execution_count": null,
   "metadata": {},
   "outputs": [],
   "source": []
  }
 ],
 "metadata": {
  "kernelspec": {
   "display_name": "Python 3",
   "language": "python",
   "name": "python3"
  },
  "language_info": {
   "codemirror_mode": {
    "name": "ipython",
    "version": 3
   },
   "file_extension": ".py",
   "mimetype": "text/x-python",
   "name": "python",
   "nbconvert_exporter": "python",
   "pygments_lexer": "ipython3",
   "version": "3.7.1"
  }
 },
 "nbformat": 4,
 "nbformat_minor": 2
}
